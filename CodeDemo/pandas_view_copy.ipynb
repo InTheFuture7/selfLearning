{
 "cells": [
  {
   "cell_type": "markdown",
   "metadata": {},
   "source": [
    "## 视图和索引"
   ]
  },
  {
   "cell_type": "markdown",
   "metadata": {},
   "source": [
    "|特性| 视图view | 副本copy |\n",
    "|--|--|--|\n",
    "| 是否修改原始数据 | 是 | 否 |\n",
    "| 性能 | 高 | 低（复制整个数据） |\n",
    "| 典型操作 | `.loc()`、`.iloc()`、`df[1:3]` | `.copy()` |\n",
    "\n",
    "注意：`df[df['col']>0]` 布尔索引通常返回副本，例如筛选后的数据不连续，但也可能会返回视图view"
   ]
  },
  {
   "cell_type": "code",
   "execution_count": 11,
   "metadata": {},
   "outputs": [
    {
     "name": "stderr",
     "output_type": "stream",
     "text": [
      "C:\\Users\\Lenovo\\AppData\\Local\\Temp\\ipykernel_31820\\2410134530.py:8: SettingWithCopyWarning: \n",
      "A value is trying to be set on a copy of a slice from a DataFrame.\n",
      "Try using .loc[row_indexer,col_indexer] = value instead\n",
      "\n",
      "See the caveats in the documentation: https://pandas.pydata.org/pandas-docs/stable/user_guide/indexing.html#returning-a-view-versus-a-copy\n",
      "  result_df['scenery'] = result_df['scenery'].apply(lambda x: x + '_修改')  # 警告在这里\n"
     ]
    }
   ],
   "source": [
    "import pandas as pd\n",
    "original_df = pd.DataFrame({\n",
    "    'name': ['张三', '李四', '王五', '赵六'],\n",
    "    'scenery': ['海景', '海景', '山景', '城景'],\n",
    "    'category': ['A', 'B', 'A', 'B']\n",
    "})\n",
    "result_df = original_df[original_df['category'] == 'A']\n",
    "result_df['scenery'] = result_df['scenery'].apply(lambda x: x + '_修改')  # 警告在这里"
   ]
  },
  {
   "cell_type": "markdown",
   "metadata": {},
   "source": [
    "警告分析：\n",
    "result_df 是从 original_df 中筛选出来的子集。这个子集在 pandas 中可能是一个视图（view） ，也可能是一个副本（copy） ，pandas 并不能总是准确判断，所以发出警告。\n",
    "\n",
    "解决方法有两种：\n",
    "1. 直接对原始数据做修改\n",
    "```python\n",
    "df.loc[:, 'column'] = df['column'].apply(function)\n",
    "```\n",
    "\n",
    "2. 复制出一个副本，修改副本 \n",
    "```python\n",
    "df = df.copy()  # 确保是独立副本\n",
    "# 然后正常操作，不会有警告\n",
    "df['scenery'] = df['scenery'].apply(filter_scenery)`\n",
    "```"
   ]
  }
 ],
 "metadata": {
  "kernelspec": {
   "display_name": "llm-universe",
   "language": "python",
   "name": "python3"
  },
  "language_info": {
   "codemirror_mode": {
    "name": "ipython",
    "version": 3
   },
   "file_extension": ".py",
   "mimetype": "text/x-python",
   "name": "python",
   "nbconvert_exporter": "python",
   "pygments_lexer": "ipython3",
   "version": "3.10.14"
  }
 },
 "nbformat": 4,
 "nbformat_minor": 2
}

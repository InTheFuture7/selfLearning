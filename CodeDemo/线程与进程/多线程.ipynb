{
 "cells": [
  {
   "cell_type": "code",
   "execution_count": null,
   "metadata": {},
   "outputs": [],
   "source": []
  },
  {
   "cell_type": "code",
   "execution_count": 1,
   "metadata": {},
   "outputs": [
    {
     "name": "stdout",
     "output_type": "stream",
     "text": [
      "任务1 开始请求\n",
      "任务2 开始请求\n",
      "任务3 开始请求\n",
      "任务1 请求完成\n",
      "任务2 请求完成\n",
      "任务3 请求完成\n",
      "总耗时： 2.00349760055542\n",
      "任务1 的返回值 任务2 的返回值 任务3 的返回值\n"
     ]
    }
   ],
   "source": [
    "import time\n",
    "from concurrent.futures import ThreadPoolExecutor\n",
    "\n",
    "def mock_api_request(name):\n",
    "    print(f\"{name} 开始请求\")\n",
    "    time.sleep(2)  # 模拟 IO 等待，比如访问大模型 API\n",
    "    print(f\"{name} 请求完成\")\n",
    "    return f\"{name} 的返回值\"\n",
    "\n",
    "# 创建线程池\n",
    "with ThreadPoolExecutor(max_workers=3) as executor:\n",
    "    start_time = time.time()\n",
    "\n",
    "    # 提交任务给线程池，返回 Future 对象\n",
    "    future1 = executor.submit(mock_api_request, \"任务1\")\n",
    "    future2 = executor.submit(mock_api_request, \"任务2\")\n",
    "    future3 = executor.submit(mock_api_request, \"任务3\")\n",
    "\n",
    "    # 阻塞主线程，直到任务完成，取结果\n",
    "    result1 = future1.result()\n",
    "    result2 = future2.result()\n",
    "    result3 = future3.result()\n",
    "\n",
    "    end_time = time.time()\n",
    "\n",
    "    print(\"总耗时：\", end_time-start_time)\n",
    "    print(result1, result2, result3)"
   ]
  },
  {
   "cell_type": "code",
   "execution_count": null,
   "metadata": {},
   "outputs": [],
   "source": []
  },
  {
   "cell_type": "code",
   "execution_count": null,
   "metadata": {},
   "outputs": [],
   "source": []
  },
  {
   "cell_type": "code",
   "execution_count": 3,
   "metadata": {},
   "outputs": [
    {
     "name": "stdout",
     "output_type": "stream",
     "text": [
      "任务0 完成（用时 2.11s）\n",
      "任务1 完成（用时 2.44s）\n",
      "任务2 完成（用时 2.73s）\n",
      "任务3 完成（用时 1.40s）\n",
      "任务4 完成（用时 2.35s）\n"
     ]
    }
   ],
   "source": [
    "from concurrent.futures import ThreadPoolExecutor, as_completed\n",
    "import time\n",
    "import random\n",
    "\n",
    "def mock_request(name):\n",
    "    delay = random.uniform(1, 3)\n",
    "    time.sleep(delay)\n",
    "    return f\"{name} 完成（用时 {delay:.2f}s）\"\n",
    "\n",
    "with ThreadPoolExecutor(max_workers=3) as executor:\n",
    "    futures = [executor.submit(mock_request, f\"任务{i}\") for i in range(5)]\n",
    "\n",
    "    for future in as_completed(futures):\n",
    "        result = future.result()\n",
    "        print(result)"
   ]
  },
  {
   "cell_type": "code",
   "execution_count": null,
   "metadata": {},
   "outputs": [],
   "source": []
  }
 ],
 "metadata": {
  "kernelspec": {
   "display_name": "openai-agent",
   "language": "python",
   "name": "python3"
  },
  "language_info": {
   "codemirror_mode": {
    "name": "ipython",
    "version": 3
   },
   "file_extension": ".py",
   "mimetype": "text/x-python",
   "name": "python",
   "nbconvert_exporter": "python",
   "pygments_lexer": "ipython3",
   "version": "3.10.18"
  }
 },
 "nbformat": 4,
 "nbformat_minor": 2
}

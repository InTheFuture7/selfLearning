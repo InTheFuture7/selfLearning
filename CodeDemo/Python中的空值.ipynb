{
 "cells": [
  {
   "cell_type": "markdown",
   "metadata": {},
   "source": [
    "# Python 代码中的空值"
   ]
  },
  {
   "cell_type": "markdown",
   "metadata": {},
   "source": [
    "聚焦于 pandas 和 numpy 中的空值处理及识别"
   ]
  },
  {
   "cell_type": "markdown",
   "metadata": {},
   "source": [
    "## 标准空值"
   ]
  },
  {
   "cell_type": "markdown",
   "metadata": {},
   "source": [
    "Python 的 pandas 或 numpy 中空值有：\n",
    "\n",
    "1. np.nan、np.NAN、np.NaN\n",
    "2. pd.NA、pd.NaT\n",
    "3. None（Python 内置的空值，类型为 NoneType）\n",
    "\n",
    "其中，np.nan、np.NaN、np.NAN 基本等同，或者说 np.NaN、np.NAN 为 np.nan 的别名"
   ]
  },
  {
   "cell_type": "markdown",
   "metadata": {},
   "source": [
    "使用 pd.dropna() 能去除所有标准的空值"
   ]
  },
  {
   "cell_type": "code",
   "execution_count": 23,
   "metadata": {},
   "outputs": [
    {
     "name": "stdout",
     "output_type": "stream",
     "text": [
      "原始数据：\n",
      "     A     B          C    D    E\n",
      "0  1.0  <NA> 2023-01-01  NaN  NaN\n",
      "1  NaN     2        NaT  1.0  4.0\n",
      "2  3.0     3 2023-01-03  2.0  5.0\n",
      "3  NaN     4 2023-01-04  3.0  6.0\n",
      "\n",
      "检查空值：\n",
      "       A      B      C      D      E\n",
      "0  False   True  False   True   True\n",
      "1   True  False   True  False  False\n",
      "2  False  False  False  False  False\n",
      "3   True  False  False  False  False\n",
      "\n",
      "使用dropna()删除空值所在行后：\n",
      "     A  B          C    D    E\n",
      "2  3.0  3 2023-01-03  2.0  5.0\n"
     ]
    }
   ],
   "source": [
    "import pandas as pd\n",
    "import numpy as np\n",
    "# 创建包含标准空值的DataFrame\n",
    "df_standard = pd.DataFrame({\n",
    "    'A': [1, np.nan, 3, None],           # np.nan 和 None\n",
    "    'B': [pd.NA, 2, 3, 4],              # pd.NA\n",
    "    'C': [pd.Timestamp('2023-01-01'), pd.NaT, pd.Timestamp('2023-01-03'), pd.Timestamp('2023-01-04')],  # pd.NaT\n",
    "    'D': [np.NAN, 1, 2, 3],\n",
    "    'E': [np.NaN, 4, 5, 6]\n",
    "})\n",
    "print(\"原始数据：\")\n",
    "print(df_standard)\n",
    "print(\"\\n检查空值：\")\n",
    "print(df_standard.isnull())\n",
    "print(\"\\n使用dropna()删除空值所在行后：\")\n",
    "print(df_standard.dropna())"
   ]
  },
  {
   "cell_type": "markdown",
   "metadata": {},
   "source": [
    "## 伪装空值"
   ]
  },
  {
   "cell_type": "markdown",
   "metadata": {},
   "source": [
    "如果是一些空字符，无法使用 pd.dropna() 去除。正确处理方式为：首先替换这些空字符，然后使用 pd.dropna()"
   ]
  },
  {
   "cell_type": "code",
   "execution_count": 9,
   "metadata": {},
   "outputs": [
    {
     "name": "stdout",
     "output_type": "stream",
     "text": [
      "包含伪装空值的数据：\n",
      "   A     B    C  D    E\n",
      "0  1  NULL  NaN  -  n/a\n",
      "1        2    2  2    2\n",
      "2  3     3    3  3    3\n",
      "3  4     4    4  4    4\n",
      "\n",
      "检查空值（注意：都是False）：\n",
      "       A      B      C      D      E\n",
      "0  False  False  False  False  False\n",
      "1  False  False  False  False  False\n",
      "2  False  False  False  False  False\n",
      "3  False  False  False  False  False\n",
      "\n",
      "使用dropna()后（没有任何行被删除）：\n",
      "   A     B    C  D    E\n",
      "0  1  NULL  NaN  -  n/a\n",
      "1        2    2  2    2\n",
      "2  3     3    3  3    3\n",
      "3  4     4    4  4    4\n"
     ]
    }
   ],
   "source": [
    "# 创建包含伪装空值的DataFrame\n",
    "df_fake_null = pd.DataFrame({\n",
    "    'A': [1, '', 3, 4],                    # 空字符串\n",
    "    'B': ['NULL', 2, 3, 4],               # 字符串'NULL'\n",
    "    'C': ['NaN', 2, 3, 4],                # 字符串'NaN'\n",
    "    'D': ['-', 2, 3, 4],                  # 连字符\n",
    "    'E': ['n/a', 2, 3, 4]                 # 字符串'n/a'\n",
    "})\n",
    "print(\"包含伪装空值的数据：\")\n",
    "print(df_fake_null)\n",
    "print(\"\\n检查空值（注意：都是False）：\")\n",
    "print(df_fake_null.isnull())\n",
    "print(\"\\n使用dropna()后（没有任何行被删除）：\")\n",
    "print(df_fake_null.dropna())"
   ]
  },
  {
   "cell_type": "code",
   "execution_count": 10,
   "metadata": {},
   "outputs": [
    {
     "name": "stdout",
     "output_type": "stream",
     "text": [
      "\n",
      "替换伪装空值为pd.NA后：\n",
      "      A     B     C     D     E\n",
      "0     1  <NA>  <NA>  <NA>  <NA>\n",
      "1  <NA>     2     2     2     2\n",
      "2     3     3     3     3     3\n",
      "3     4     4     4     4     4\n",
      "\n",
      "检查空值：\n",
      "       A      B      C      D      E\n",
      "0  False   True   True   True   True\n",
      "1   True  False  False  False  False\n",
      "2  False  False  False  False  False\n",
      "3  False  False  False  False  False\n",
      "\n",
      "现在可以用dropna()正确删除：\n",
      "   A  B  C  D  E\n",
      "2  3  3  3  3  3\n",
      "3  4  4  4  4  4\n"
     ]
    }
   ],
   "source": [
    "# 先将伪装的空值替换为标准空值\n",
    "df_cleaned = df_fake_null.replace(['', 'NULL', 'n/a', '-', 'NaN'], pd.NA)\n",
    "print(\"\\n替换伪装空值为pd.NA后：\")\n",
    "print(df_cleaned)\n",
    "print(\"\\n检查空值：\")\n",
    "print(df_cleaned.isnull())\n",
    "print(\"\\n现在可以用dropna()正确删除：\")\n",
    "print(df_cleaned.dropna())"
   ]
  },
  {
   "cell_type": "markdown",
   "metadata": {},
   "source": [
    "## 识别空值"
   ]
  },
  {
   "cell_type": "markdown",
   "metadata": {},
   "source": [
    "1. 如果某一列期望是数值型（int, float）或日期型，但 df.info() 显示其类型是 object (通常代表字符串)，这通常意味着该列混杂了非数值/日期字符，其中就可能包含伪装的空值\n",
    "\n",
    "2. info() 会统计非空数，可以识别标准空值\n",
    "\n",
    "3. value_counts() 会列出该列中所有唯一值及其出现的次数。伪装的空值字符串（如 \"\", \"NA\", \"N/A\", \"null\", \"-\", \"?\" 等）会和它们的频次一起显示出来"
   ]
  },
  {
   "cell_type": "code",
   "execution_count": null,
   "metadata": {},
   "outputs": [
    {
     "name": "stdout",
     "output_type": "stream",
     "text": [
      "<class 'pandas.core.frame.DataFrame'>\n",
      "RangeIndex: 4 entries, 0 to 3\n",
      "Data columns (total 5 columns):\n",
      " #   Column  Non-Null Count  Dtype \n",
      "---  ------  --------------  ----- \n",
      " 0   A       4 non-null      object\n",
      " 1   B       4 non-null      object\n",
      " 2   C       4 non-null      object\n",
      " 3   D       4 non-null      object\n",
      " 4   E       4 non-null      object\n",
      "dtypes: object(5)\n",
      "memory usage: 288.0+ bytes\n"
     ]
    }
   ],
   "source": [
    "df_standard.info()\n",
    "df_standard['A'].value_counts()\n",
    "\n",
    "df_fake_null.info()\n",
    "df_fake_null['A'].value_counts()"
   ]
  },
  {
   "cell_type": "markdown",
   "metadata": {},
   "source": [
    "## 补充"
   ]
  },
  {
   "cell_type": "markdown",
   "metadata": {},
   "source": [
    "### 关于 np.nan、np.NaN、np.NAN 的关系\n",
    "\n",
    "参考：https://stackoverflow.com/questions/53436339/difference-between-np-nan-and-np-nan"
   ]
  },
  {
   "cell_type": "code",
   "execution_count": null,
   "metadata": {},
   "outputs": [
    {
     "name": "stdout",
     "output_type": "stream",
     "text": [
      "False\n",
      "False\n",
      "False\n",
      "<class 'pandas._libs.missing.NAType'>\n",
      "<class 'float'>\n",
      "<class 'float'>\n"
     ]
    }
   ],
   "source": [
    "# 不能判断 nan 是否相等（equality）\n",
    "print(np.nan == np.NaN)\n",
    "print(np.nan == np.NAN)\n",
    "print(np.NaN == np.NAN)\n",
    "\n",
    "print(type(np.nan))\n",
    "print(type(np.NaN))\n",
    "print(type(np.NAN))"
   ]
  },
  {
   "cell_type": "code",
   "execution_count": null,
   "metadata": {},
   "outputs": [],
   "source": []
  }
 ],
 "metadata": {
  "kernelspec": {
   "display_name": "llm-universe",
   "language": "python",
   "name": "python3"
  },
  "language_info": {
   "codemirror_mode": {
    "name": "ipython",
    "version": 3
   },
   "file_extension": ".py",
   "mimetype": "text/x-python",
   "name": "python",
   "nbconvert_exporter": "python",
   "pygments_lexer": "ipython3",
   "version": "3.10.14"
  }
 },
 "nbformat": 4,
 "nbformat_minor": 2
}

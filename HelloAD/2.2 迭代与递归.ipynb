{
 "cells": [
  {
   "cell_type": "markdown",
   "metadata": {},
   "source": [
    "# 2.2 迭代与递归"
   ]
  },
  {
   "cell_type": "markdown",
   "metadata": {},
   "source": [
    "迭代（iteration）是一种重复执行某个任务的控制结构。在迭代中，程序会在满足一定的条件下重复执行某段代码，直到这个条件不再满足。\n",
    "- for 循环是最常见的迭代形式之一，适合在预先知道迭代次数时使用。\n",
    "- while 循环比 for 循环的自由度更高。在 while 循环中，我们可以自由地设计条件变量的初始化和更新步骤。\n",
    "\n",
    "\n",
    "递归（recursion）是一种算法策略，通过函数调用自身来解决问题\n",
    "\n",
    "递：程序不断深入地调用自身，通常传入更小或更简化的参数，直到达到“终止条件”。\n",
    "归：触发“终止条件”后，程序从最深层的递归函数开始逐层返回，汇聚每一层的结果。\n",
    "\n",
    "终止条件：用于决定什么时候由“递”转“归”。\n",
    "递归调用：对应“递”，函数调用自身，通常输入更小或更简化的参数。\n",
    "返回结果：对应“归”，将当前递归层级的结果返回至上一层。"
   ]
  },
  {
   "cell_type": "markdown",
   "metadata": {},
   "source": [
    "## 2.2.1 迭代"
   ]
  },
  {
   "cell_type": "markdown",
   "metadata": {},
   "source": [
    "基于 for 循环实现了求和 1+2+⋯+n，求和结果使用变量 res 记录"
   ]
  },
  {
   "cell_type": "code",
   "execution_count": 12,
   "metadata": {},
   "outputs": [
    {
     "data": {
      "text/plain": [
       "6"
      ]
     },
     "execution_count": 12,
     "metadata": {},
     "output_type": "execute_result"
    }
   ],
   "source": [
    "def for_loop(n):\n",
    "    res = 0\n",
    "    for i in range(1, n+1):\n",
    "        res += i\n",
    "    return res\n",
    "for_loop(3)"
   ]
  },
  {
   "cell_type": "markdown",
   "metadata": {},
   "source": [
    "与 for 循环类似，while 循环也是一种实现迭代的方法"
   ]
  },
  {
   "cell_type": "code",
   "execution_count": 13,
   "metadata": {},
   "outputs": [
    {
     "data": {
      "text/plain": [
       "6"
      ]
     },
     "execution_count": 13,
     "metadata": {},
     "output_type": "execute_result"
    }
   ],
   "source": [
    "def while_loop(n):\n",
    "    res = 0\n",
    "    i = 1\n",
    "    while i < n+1:\n",
    "        res += i\n",
    "        i += 1\n",
    "    return res\n",
    "while_loop(3)"
   ]
  },
  {
   "cell_type": "markdown",
   "metadata": {},
   "source": [
    "## 2.2.2 递归"
   ]
  },
  {
   "cell_type": "markdown",
   "metadata": {},
   "source": [
    "关于「普通递归」和「尾递归」的区别：\n",
    "\n",
    "普通递归：我先去寻找第一个宝箱，得到一个线索，发现要先打开第二个宝箱才能得到第一个宝箱里的金币，然后我根据线索，找到第二个宝箱，发现需要先打开第三个宝箱，又根据线索去找第三个宝箱...我找到最后一个宝箱，打开了宝箱获得了金币，同时得到倒数第二个宝箱的钥匙，依次获得每个宝箱的金币，搬运回家\n",
    "\n",
    "尾递归：我先去寻找第一个宝箱，得到一个线索+银行卡，银行卡里记录了第一个宝箱里的金币，但是没有密码。我发现要先打开第二个宝箱才能得到密码，然后我根据线索找到第二个宝箱，发现需要先打开第三个宝箱，又根据线索去找第三个宝箱...我找到最后一个宝箱，打开了宝箱并获得了银行卡密码，获得每个宝箱累计的银行卡余额。\n",
    "\n",
    "尾递归：如果函数在返回前的最后一步才进行递归调用，则该函数可以被编译器或解释器优化，使其在空间效率上与迭代相当"
   ]
  },
  {
   "cell_type": "markdown",
   "metadata": {},
   "source": [
    "普通递归\n",
    "\n",
    "调用函数 recur(n) ，就可以完成 1+2+⋯+n 的计算"
   ]
  },
  {
   "cell_type": "code",
   "execution_count": null,
   "metadata": {},
   "outputs": [
    {
     "data": {
      "text/plain": [
       "6"
      ]
     },
     "execution_count": 5,
     "metadata": {},
     "output_type": "execute_result"
    }
   ],
   "source": [
    "def recur(n):\n",
    "    if n == 1:\n",
    "        return 1\n",
    "    return recur(n-1) + n\n",
    "recur(3)"
   ]
  },
  {
   "cell_type": "markdown",
   "metadata": {},
   "source": [
    "尾递归\n",
    "\n",
    "计算 1+2+⋯+n 为例，我们可以将结果变量 res 设为函数参数，从而实现尾递归"
   ]
  },
  {
   "cell_type": "markdown",
   "metadata": {},
   "source": [
    "❗有点不好理解"
   ]
  },
  {
   "cell_type": "code",
   "execution_count": 11,
   "metadata": {},
   "outputs": [
    {
     "data": {
      "text/plain": [
       "6"
      ]
     },
     "execution_count": 11,
     "metadata": {},
     "output_type": "execute_result"
    }
   ],
   "source": [
    "def recur(n, res):\n",
    "    if n == 0:\n",
    "        return res\n",
    "    return recur(n-1, res+n)\n",
    "recur(3, 0)"
   ]
  },
  {
   "cell_type": "markdown",
   "metadata": {},
   "source": [
    "递归树\n",
    "\n",
    "设斐波那契数列的第 $n$ 个数字为 $f(n)$ ，易得两个结论。\n",
    "- 数列的前两个数字为 $f(1)=0$ 和 $f(2)=1$ 。\n",
    "- 数列中的每个数字是前两个数字的和，即 $f(n)=f(n-1)+f(n-2)$ 。"
   ]
  },
  {
   "cell_type": "code",
   "execution_count": 9,
   "metadata": {},
   "outputs": [
    {
     "data": {
      "text/plain": [
       "1"
      ]
     },
     "execution_count": 9,
     "metadata": {},
     "output_type": "execute_result"
    }
   ],
   "source": [
    "def fib(n):\n",
    "    if n == 1 or n == 2:\n",
    "        return n-1\n",
    "    return fib(n-1) + fib(n-2)\n",
    "fib(3)"
   ]
  },
  {
   "cell_type": "markdown",
   "metadata": {},
   "source": [
    "使用一个显式的栈来模拟调用栈的行为，从而将递归转化为迭代形式\n",
    "\n",
    "栈入表示递，栈出表示归"
   ]
  },
  {
   "cell_type": "code",
   "execution_count": 22,
   "metadata": {},
   "outputs": [
    {
     "data": {
      "text/plain": [
       "6"
      ]
     },
     "execution_count": 22,
     "metadata": {},
     "output_type": "execute_result"
    }
   ],
   "source": [
    "def for_loop_recur(n):\n",
    "    stack = []\n",
    "    res = 0\n",
    "    for i in range(1, n+1):\n",
    "        stack.append(i)  # [1, 2, 3]\n",
    "    while stack:\n",
    "        res += stack.pop()  # 3, 2, 1\n",
    "    return res\n",
    "for_loop_recur(3)"
   ]
  },
  {
   "cell_type": "code",
   "execution_count": null,
   "metadata": {},
   "outputs": [],
   "source": []
  }
 ],
 "metadata": {
  "kernelspec": {
   "display_name": "llm-universe",
   "language": "python",
   "name": "llm-universe"
  },
  "language_info": {
   "codemirror_mode": {
    "name": "ipython",
    "version": 3
   },
   "file_extension": ".py",
   "mimetype": "text/x-python",
   "name": "python",
   "nbconvert_exporter": "python",
   "pygments_lexer": "ipython3",
   "version": "3.10.14"
  }
 },
 "nbformat": 4,
 "nbformat_minor": 2
}

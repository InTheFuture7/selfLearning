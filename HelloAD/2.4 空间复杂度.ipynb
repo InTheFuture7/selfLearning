{
 "cells": [
  {
   "cell_type": "markdown",
   "metadata": {},
   "source": [
    "# 空间复杂度"
   ]
  },
  {
   "cell_type": "markdown",
   "metadata": {},
   "source": [
    "和时间复杂度类似，空间复杂度是程序所占用空间随输入数据量的大小的增长趋势。和时间复杂度不同的是，空间复杂度关注的是最差空间复杂度，因为需要确保空间足够程序运行\n",
    "\n",
    "程序中的空间分为：输入空间（输入数据）、暂存空间（暂存数据、栈帧空间、指令空间）、输出空间（输出数据）\n",
    "\n",
    "空间复杂度主要考虑**暂存空间和输出空间**\n",
    "\n",
    "\n",
    "- 输入空间：用于存储算法的输入数据。\n",
    "- 暂存空间：用于存储算法在运行过程中的变量、对象、函数上下文等数据。\n",
    "  - 暂存数据：用于保存算法运行过程中的各种常量、变量、对象等。\n",
    "  - 栈帧空间：用于保存调用函数的上下文数据。系统在每次调用函数时都会在栈顶部创建一个栈帧，函数返回后，栈帧空间会被释放。\n",
    "  - 指令空间：用于保存编译后的程序指令，在实际统计中通常忽略不计。\n",
    "- 输出空间：用于存储算法的输出数据。"
   ]
  },
  {
   "cell_type": "code",
   "execution_count": null,
   "metadata": {},
   "outputs": [],
   "source": [
    "class Node:\n",
    "    \"\"\"类\"\"\"\n",
    "    def __init__(self, x: int):\n",
    "        self.val: int = x              # 节点值\n",
    "        self.next: Node | None = None  # 指向下一节点的引用\n",
    "\n",
    "def function() -> int:\n",
    "    \"\"\"函数\"\"\"\n",
    "    # 执行某些操作...\n",
    "    return 0\n",
    "\n",
    "def algorithm(n) -> int:  # 输入数据\n",
    "    A = 0                 # 暂存数据（常量，一般用大写字母表示）\n",
    "    b = 0                 # 暂存数据（变量）\n",
    "    node = Node(0)        # 暂存数据（对象）\n",
    "    c = function()        # 栈帧空间（调用函数）\n",
    "    return A + b + c      # 输出数据"
   ]
  },
  {
   "cell_type": "markdown",
   "metadata": {},
   "source": [
    "递归函数需要注意栈帧空间\n",
    "\n",
    "循环结构中，每轮循环开始后，不会保留上一轮初始化的变量和结构体中的代码所占用的空间"
   ]
  },
  {
   "cell_type": "code",
   "execution_count": null,
   "metadata": {},
   "outputs": [],
   "source": [
    "def function() -> int:\n",
    "    # 执行某些操作\n",
    "    return 0\n",
    "\n",
    "def loop(n: int):\n",
    "    \"\"\"循环的空间复杂度为 O(1)\"\"\"\n",
    "    for _ in range(n):\n",
    "        function()\n",
    "\n",
    "def recur(n: int):\n",
    "    \"\"\"递归的空间复杂度为 O(n)\"\"\"\n",
    "    if n == 1:\n",
    "        return\n",
    "    return recur(n - 1)"
   ]
  },
  {
   "cell_type": "code",
   "execution_count": null,
   "metadata": {},
   "outputs": [],
   "source": []
  }
 ],
 "metadata": {
  "kernelspec": {
   "display_name": "llm-universe",
   "language": "python",
   "name": "llm-universe"
  },
  "language_info": {
   "name": "python",
   "version": "3.10.14"
  }
 },
 "nbformat": 4,
 "nbformat_minor": 2
}

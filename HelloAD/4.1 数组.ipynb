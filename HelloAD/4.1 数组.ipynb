{
 "cells": [
  {
   "cell_type": "markdown",
   "metadata": {},
   "source": [
    "# 数组"
   ]
  },
  {
   "cell_type": "markdown",
   "metadata": {},
   "source": [
    "逻辑结构上看，数组是线性的；从物理结构上看，数组在内存空间中是连续存储的"
   ]
  },
  {
   "cell_type": "markdown",
   "metadata": {},
   "source": [
    "|操作|说明|\n",
    "|--|--|\n",
    "|初始化|  无初始值，默认为0；给定初始值|\n",
    "|访问元素| $O(1)$|\n",
    "|插入/删除元素| $O(n)$ |"
   ]
  },
  {
   "cell_type": "markdown",
   "metadata": {},
   "source": [
    "数组中访问元素\n",
    "\n",
    "一般来说，需要已知数组的首元素内存地址、目标元素的位置，就能访问到目标元素。\n",
    "\n",
    "因为声明一个数组，并赋值给某变量后，这个变量就记录有该数组的首个元素的位置。数组中元素类型相同，所以编译阶段就知道元素大小。\n",
    "\n",
    "根据，$目标元素=数组[首元素地址+(目标元素位置/索引-1)*元素大小]$，就能访问到目标元素\n",
    "\n",
    "因为是简单的加减和乘法运算，所以时间复杂度为 $o(1)$"
   ]
  },
  {
   "cell_type": "code",
   "execution_count": null,
   "metadata": {},
   "outputs": [],
   "source": []
  },
  {
   "cell_type": "markdown",
   "metadata": {},
   "source": [
    "数组的插入\n",
    "\n",
    "下面实现指定索引位置和指定元素位置两种插入方式\n",
    "\n",
    "注意：for 循环需要倒排，但是 range() 同样是含头不含尾"
   ]
  },
  {
   "cell_type": "code",
   "execution_count": 3,
   "metadata": {},
   "outputs": [
    {
     "data": {
      "text/plain": [
       "[1, 9, 2, 4, 8]"
      ]
     },
     "execution_count": 3,
     "metadata": {},
     "output_type": "execute_result"
    }
   ],
   "source": [
    "def insert(nums:list[int], num:int, index:int) -> list[int]:\n",
    "    \"\"\"在数组 nums 的第 index 个位置插入元素 num\"\"\"\n",
    "    for i in range(len(nums)-1, index-1, -1):  # [len(nums)-1, index-1)\n",
    "        nums[i] = nums[i-1]\n",
    "\n",
    "    nums[index-1] = num    \n",
    "    return nums\n",
    "\n",
    "nums = [1, 2, 4, 8, 3]\n",
    "insert(nums, 9, 2)"
   ]
  },
  {
   "cell_type": "code",
   "execution_count": null,
   "metadata": {},
   "outputs": [],
   "source": [
    "def insert(nums:list[int], num:int, index:int) -> list[int]:\n",
    "    \"\"\"在数组 nums 的索引 index 处插入元素 num\"\"\"\n",
    "    for i in range(len(nums)-1, index, -1):  # [len(nums)-1, index-1)\n",
    "        nums[i] = nums[i-1]\n",
    "\n",
    "    nums[index] = num    \n",
    "    return nums\n",
    "\n",
    "nums = [1, 2, 4, 8, 3]\n",
    "insert(nums, 9, 1)"
   ]
  },
  {
   "cell_type": "markdown",
   "metadata": {},
   "source": [
    "数组删除"
   ]
  },
  {
   "cell_type": "code",
   "execution_count": null,
   "metadata": {},
   "outputs": [],
   "source": [
    "def remove(nums:list[int], index:int) -> list[int]:\n",
    "    \"\"\"在数组 nums 的第 index 个元素\"\"\"\n",
    "    for i in range(index, len(nums)):\n",
    "        nums[i-1] = nums[i]\n",
    "\n",
    "    nums.pop()\n",
    "    return nums\n",
    "\n",
    "nums = [1, 2, 4, 8, 3]\n",
    "remove(nums, 2)"
   ]
  },
  {
   "cell_type": "code",
   "execution_count": 2,
   "metadata": {},
   "outputs": [
    {
     "data": {
      "text/plain": [
       "[1, 2, 4, 3]"
      ]
     },
     "execution_count": 2,
     "metadata": {},
     "output_type": "execute_result"
    }
   ],
   "source": [
    "def remove(nums:list[int], index:int) -> list[int]:\n",
    "    \"\"\"在数组 nums 的索引 index 处元素\"\"\"\n",
    "    for i in range(index+1, len(nums)):\n",
    "        nums[i-1] = nums[i]\n",
    "\n",
    "    nums.pop()\n",
    "    return nums\n",
    "\n",
    "nums = [1, 2, 4, 8, 3]\n",
    "remove(nums, 3)"
   ]
  },
  {
   "cell_type": "code",
   "execution_count": null,
   "metadata": {},
   "outputs": [],
   "source": []
  }
 ],
 "metadata": {
  "kernelspec": {
   "display_name": "llm-universe",
   "language": "python",
   "name": "llm-universe"
  },
  "language_info": {
   "codemirror_mode": {
    "name": "ipython",
    "version": 3
   },
   "file_extension": ".py",
   "mimetype": "text/x-python",
   "name": "python",
   "nbconvert_exporter": "python",
   "pygments_lexer": "ipython3",
   "version": "3.10.14"
  }
 },
 "nbformat": 4,
 "nbformat_minor": 2
}

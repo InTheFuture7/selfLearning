{
 "cells": [
  {
   "cell_type": "markdown",
   "metadata": {},
   "source": [
    "# 时间复杂度"
   ]
  },
  {
   "cell_type": "markdown",
   "metadata": {},
   "source": [
    "时间复杂度分析统计的不是算法运行时间，而是**算法运行时间随着数据量变大时的增长趋势**"
   ]
  },
  {
   "cell_type": "markdown",
   "metadata": {},
   "source": [
    "## 关于循环结构的时间复杂度分析"
   ]
  },
  {
   "cell_type": "markdown",
   "metadata": {},
   "source": [
    "控制结构的开销与循环体一致\n",
    "\n",
    "\n",
    "for 循环的控制结构（初始化、判断、步进），在大 O 表示法中，这些开销通常被合并到循环次数的总复杂度中 ，并不会单独体现为一个独立的复杂度项"
   ]
  },
  {
   "cell_type": "code",
   "execution_count": null,
   "metadata": {},
   "outputs": [],
   "source": [
    "n = input(\"input an integer:\")\n",
    "for i in range(5*n+1):\n",
    "    print(0)"
   ]
  },
  {
   "cell_type": "markdown",
   "metadata": {},
   "source": [
    "for 循环部分具体执行过程：\n",
    "\n",
    "- 初始化 i=0        整个过程只执行 1 次     O(1)\n",
    "- 判断 i<5n+1       每次循环都执行 1 次     (5n+1)*O(1)\n",
    "- 步进 i+=1         每次循环都执行 1 次     (5n+1)*O(1)\n",
    "- 循环体 print(0)   每次循环都执行 1 次     (5n+1)*O(1)\n",
    "\n",
    "以上求和即为：O(n)\n",
    "\n",
    "\n",
    "| 特性| for 循环| while 循环|\n",
    "|--|--|--|\n",
    "|初始化|内置于循环结构中|手动编写|\n",
    "|迭代|内置|手动|\n",
    "|条件判断|内置|内置|\n",
    "|时间复杂度|合并到循环体的复杂度|合并到循环体的复杂度|"
   ]
  },
  {
   "cell_type": "markdown",
   "metadata": {},
   "source": [
    "## 时间复杂度常见类型"
   ]
  },
  {
   "cell_type": "markdown",
   "metadata": {},
   "source": [
    "### 常数阶\n",
    "\n",
    "操作数量和输入数据 n 无关"
   ]
  },
  {
   "cell_type": "code",
   "execution_count": null,
   "metadata": {},
   "outputs": [],
   "source": [
    "def constant(n:int)->int:\n",
    "    count = 0\n",
    "    for i in range(100):\n",
    "        count += 1\n",
    "    return count"
   ]
  },
  {
   "cell_type": "markdown",
   "metadata": {},
   "source": [
    "### 线性阶\n",
    "\n",
    "线性阶的操作数量相对于输入数据大小 n 以线性级别增长，常见于**单层循环**中"
   ]
  },
  {
   "cell_type": "code",
   "execution_count": null,
   "metadata": {},
   "outputs": [],
   "source": [
    "def array_traversal(nums: list[int]) -> int:\n",
    "    count = 0\n",
    "    for i in range(nums):\n",
    "        count += i\n",
    "    return count"
   ]
  },
  {
   "cell_type": "markdown",
   "metadata": {},
   "source": [
    "### 平方阶\n",
    "\n",
    "平方阶的操作数量相对于输入数据大小 n 以平方级别增长。平方阶通常出现在嵌套循环中"
   ]
  },
  {
   "cell_type": "markdown",
   "metadata": {},
   "source": [
    "冒泡排序的核心是相邻元素两两比较并交换 ，通过多轮遍历将最大值逐步“冒泡”到数组末尾"
   ]
  },
  {
   "cell_type": "code",
   "execution_count": 3,
   "metadata": {},
   "outputs": [
    {
     "data": {
      "text/plain": [
       "(0, [1, 2, 3, 4, 5, 6])"
      ]
     },
     "execution_count": 3,
     "metadata": {},
     "output_type": "execute_result"
    }
   ],
   "source": [
    "# 冒泡排序,最大元素交换至该区间的最右端\n",
    "def bubble_sort(nums: list[int]) -> int:\n",
    "    count = 0  # 计数器\n",
    "    for i in range(len(nums)-1, 0, -1):  # 5 4 3 2 1\n",
    "        for j in range(i):  # 未排序区间 [0, i], range(0) 不会执行\n",
    "            # 思路：相邻两两元素比较\n",
    "            if nums[j] > nums[j+1]:\n",
    "                tmp = nums[j]\n",
    "                nums[j] = nums[j+1]\n",
    "                nums[j+1] = tmp\n",
    "                \n",
    "    return count, nums\n",
    "\n",
    "bubble_sort([1, 3, 5, 2, 4, 6])"
   ]
  },
  {
   "cell_type": "code",
   "execution_count": null,
   "metadata": {},
   "outputs": [],
   "source": []
  },
  {
   "cell_type": "code",
   "execution_count": null,
   "metadata": {},
   "outputs": [
    {
     "data": {
      "text/plain": [
       "(0, [1, 2, 3, 4, 5, 6])"
      ]
     },
     "execution_count": 2,
     "metadata": {},
     "output_type": "execute_result"
    }
   ],
   "source": [
    "# 非标准的选择排序：固定 i 位置的元素 ，与后面的元素逐一比较并交换\n",
    "def bubble_sort(nums: list[int]) -> int:\n",
    "    count = 0  # 计数器\n",
    "    for i in range(0, len(nums)):  # 0 1 2 3 4 5\n",
    "        # 思路：固定 nums[i]，依次和后面每个元素做比较\n",
    "        for j in range(i+1, len(nums)):  # 未排序区间 [ i+1, len(nums) )  \n",
    "            if nums[i] > nums[j]:\n",
    "                tmp = nums[i]\n",
    "                nums[i] = nums[j]\n",
    "                nums[j] = tmp\n",
    "\n",
    "    return count, nums\n",
    "\n",
    "bubble_sort([1, 3, 5, 2, 4, 6])"
   ]
  },
  {
   "cell_type": "markdown",
   "metadata": {},
   "source": [
    "### 指数阶"
   ]
  },
  {
   "cell_type": "markdown",
   "metadata": {},
   "source": [
    "生物学的「细胞分裂」是指数阶增长的典型例子，具体来说：初始1个细胞，分裂一次后变成两个，分裂第二次编程4个\n",
    "\n",
    "使用变量记录分裂次数 count 和分裂后的细胞数 base"
   ]
  },
  {
   "cell_type": "code",
   "execution_count": 1,
   "metadata": {},
   "outputs": [],
   "source": [
    "def exponential(n: int) -> int:\n",
    "    count = 0\n",
    "    base = 1\n",
    "    for _ in range(n):\n",
    "        for _ in range(base):\n",
    "            count += 1\n",
    "        base *= 2\n",
    "    return count"
   ]
  },
  {
   "cell_type": "markdown",
   "metadata": {},
   "source": [
    "在实际算法中，指数阶常出现于递归函数中。例如在以下代码中，其递归地一分为二，经过 n 次分裂后停止"
   ]
  },
  {
   "cell_type": "code",
   "execution_count": null,
   "metadata": {},
   "outputs": [],
   "source": [
    "def exp_recur(n: int) -> int:\n",
    "    if n == 1:\n",
    "        return 1\n",
    "    return exp_recur(n-1) + exp_recur(n-1) + 1"
   ]
  },
  {
   "cell_type": "markdown",
   "metadata": {},
   "source": [
    "### 对数阶"
   ]
  },
  {
   "cell_type": "markdown",
   "metadata": {},
   "source": [
    "与指数阶相反，对数阶反映了“每轮缩减到一半”的情况。设输入数据大小为 n ，由于每轮缩减到一半，因此循环次数是 $log_2^⁡n$，即 $2^n$ 的反函数。"
   ]
  },
  {
   "cell_type": "code",
   "execution_count": null,
   "metadata": {},
   "outputs": [],
   "source": [
    "def logarithmic(n:int)->int:\n",
    "    \"\"\"返回值为操作次数\"\"\"\n",
    "    count = 0\n",
    "    while n > 1:\n",
    "        n = n / 2\n",
    "        count += 1\n",
    "    return count"
   ]
  },
  {
   "cell_type": "markdown",
   "metadata": {},
   "source": [
    "与指数阶类似，对数阶也常出现于递归函数中"
   ]
  },
  {
   "cell_type": "code",
   "execution_count": null,
   "metadata": {},
   "outputs": [],
   "source": [
    "def log_recur(n:int) -> int:\n",
    "    \"\"\"返回值为操作次数\"\"\"\n",
    "    if n <= 1:\n",
    "        return 0\n",
    "    return log_recur(n / 2) + 1"
   ]
  },
  {
   "cell_type": "markdown",
   "metadata": {},
   "source": [
    "对数阶常出现于基于分治策略的算法中，体现了“一分为多”和“化繁为简”的算法思想。它增长缓慢，是仅次于常数阶的理想的时间复杂度。\n",
    "\n",
    "准确来说，“一分为 $m$”对应的时间复杂度是 $O(\\log_m n)$。而通过对数换底公式，我们可以得到具有不同底数、相等的时间复杂度：\n",
    "\n",
    "$$\n",
    "O(\\log_m n) = O\\left(\\frac{\\log_k n}{\\log_k m}\\right) = O(\\log_k n)\n",
    "$$\n",
    "\n",
    "也就是说，底数 $m$ 可以在不影响复杂度的前提下转换。因此我们通常会省略底数 $m$，将对数阶直接记为 $O(\\log n)$。\n",
    "\n",
    "注：一分为多指的是将一个任务、问题或数据分成多个子任务、子问题或子部分来处理"
   ]
  },
  {
   "cell_type": "markdown",
   "metadata": {},
   "source": [
    "### 线性对数阶"
   ]
  },
  {
   "cell_type": "markdown",
   "metadata": {},
   "source": [
    "线性对数阶常出现于嵌套循环中，两层循环的时间复杂度分别为 $O(logn)$ 和 $O(n)$。例如快速排序、归并排序、堆排序等。"
   ]
  },
  {
   "cell_type": "markdown",
   "metadata": {},
   "source": [
    "### 阶乘阶"
   ]
  },
  {
   "cell_type": "markdown",
   "metadata": {},
   "source": [
    "阶乘阶对应数学上的“全排列”问题。给定 n 个互不重复的元素，求其所有可能的排列方案"
   ]
  },
  {
   "cell_type": "code",
   "execution_count": null,
   "metadata": {},
   "outputs": [],
   "source": []
  },
  {
   "cell_type": "markdown",
   "metadata": {},
   "source": [
    "## 最差、最佳、平均时间复杂度"
   ]
  },
  {
   "cell_type": "markdown",
   "metadata": {},
   "source": [
    "寻找一个含 1 元素的乱序数组中的 1。\n",
    "如果从头开始找，那么当第一个元素为1，这时时间复杂度最小，当最后一个元素为1，那么时间复杂度最大。"
   ]
  },
  {
   "cell_type": "code",
   "execution_count": 4,
   "metadata": {},
   "outputs": [
    {
     "name": "stdout",
     "output_type": "stream",
     "text": [
      "生成的 nums 列表： [2, 1, 5, 4, 3]\n"
     ]
    },
    {
     "data": {
      "text/plain": [
       "2"
      ]
     },
     "execution_count": 4,
     "metadata": {},
     "output_type": "execute_result"
    }
   ],
   "source": [
    "import random\n",
    "def random_numbers(n:int) -> list[int]:\n",
    "    nums = [i for i in range(1, n+1)]\n",
    "    random.shuffle(nums)\n",
    "    return nums\n",
    "\n",
    "def find_one(nums: list) -> list[int]:\n",
    "    for i in range(len(nums)):\n",
    "        if nums[i] == 1:\n",
    "            return i+1\n",
    "nums = random_numbers(5)\n",
    "print(\"生成的 nums 列表：\", nums)\n",
    "find_one(nums)"
   ]
  },
  {
   "cell_type": "markdown",
   "metadata": {},
   "source": [
    "一般来说，因为只有小概率会达到最佳和最差，所以很少使用时间最佳和最差时间复杂度，而是使用平均时间复杂度。\n",
    "\n",
    "平均时间复杂度一般用符号 $\\Theta(n)$ 表示，但是因为 $O$ 朗朗上口，所以平均时间复杂度还是多用 $O$ 表示。\n",
    "\n",
    "一般来说，可以推算随机数据分布下的平均时间复杂度，但是有些算法难以分析数据分布下的整体数据期望，所以通常使用最差时间复杂度来评估算法效果。"
   ]
  }
 ],
 "metadata": {
  "kernelspec": {
   "display_name": "llm-universe",
   "language": "python",
   "name": "llm-universe"
  },
  "language_info": {
   "codemirror_mode": {
    "name": "ipython",
    "version": 3
   },
   "file_extension": ".py",
   "mimetype": "text/x-python",
   "name": "python",
   "nbconvert_exporter": "python",
   "pygments_lexer": "ipython3",
   "version": "3.10.14"
  }
 },
 "nbformat": 4,
 "nbformat_minor": 2
}

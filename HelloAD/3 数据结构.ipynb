{
 "cells": [
  {
   "cell_type": "markdown",
   "metadata": {},
   "source": [
    "# 数据类型与结构"
   ]
  },
  {
   "cell_type": "markdown",
   "metadata": {},
   "source": [
    "数据类型约定数据的内容类型，如：int、float、str、char、bool等\n",
    "\n",
    "数据结构反应数据的组织方式，数据结构分为物理结构和逻辑结构\n",
    "\n",
    "- 逻辑结构反映了数据元素之间的逻辑关系，分为线性和非线性两类，线性的有：数组、链表、栈、队列、哈希表；非线性数据结构的有：树、堆、图、哈希表。\n",
    "\n",
    "- 物理结构反映了数据在计算机内存中的存储方式，可分为连续空间存储（数组）和分散空间存储（链表）"
   ]
  }
 ],
 "metadata": {
  "language_info": {
   "name": "python"
  }
 },
 "nbformat": 4,
 "nbformat_minor": 2
}

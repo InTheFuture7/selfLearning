{
 "cells": [
  {
   "cell_type": "markdown",
   "metadata": {
    "vscode": {
     "languageId": "plaintext"
    }
   },
   "source": [
    "流程：tokenizer -> embedding ->\n",
    "\n",
    "\n",
    "以获得\"你好世界！\"这句话的嵌入为例，来理解 tokenizer 和 embedding\n",
    "\n",
    "1. tokenizer 过程\n",
    "   1. 切分：它会把句子切分成它认识的最小单位，即： [\"你好\", \"世界\", \"！\"]\n",
    "   2. 查找、转换：查找这几个单位的对应数字序列，如：[1527, 2054, 102]。\n",
    "2. embedding 过程\n",
    "   1. 将数字序列中每个数字，进一步用一串数字（向量/高维空间中的某个点）来描述\n",
    "\n",
    "\n",
    "\n",
    "\n",
    "tokenizer像是字典的索引页，索引页中记录了字典中所有的字、词的页码，embedding就是通过页码找到字词的具体含义\n",
    "\n",
    "为什么不能将以上两步合为一步：如果要合为一步，就要求字典中记录每一个可能出现的字或词及其对应的向量，对字典覆盖范围要求太高。\n",
    "\n",
    "如果拆分成两步，即便有索引页中没有的字或词，可以尝试进一步拆分，比如：找不到\"transformer\"，可以拆分为\"trans\"、\"form\"、\"er\"来分别寻找特征表示，然后合并以得到transformer的表征"
   ]
  },
  {
   "cell_type": "code",
   "execution_count": null,
   "metadata": {
    "vscode": {
     "languageId": "plaintext"
    }
   },
   "outputs": [],
   "source": []
  }
 ],
 "metadata": {
  "language_info": {
   "name": "python"
  }
 },
 "nbformat": 4,
 "nbformat_minor": 2
}

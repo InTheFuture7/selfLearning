{
 "cells": [
  {
   "cell_type": "markdown",
   "metadata": {},
   "source": [
    "# agent 配置"
   ]
  },
  {
   "cell_type": "markdown",
   "metadata": {},
   "source": [
    "## 基础配置\n",
    "\n",
    "在 `Agent()` 中可以定义 `tool`，使用 `ModelSettings` 参数定义 `temperature`、`top_p` 等参数"
   ]
  },
  {
   "cell_type": "code",
   "execution_count": 5,
   "metadata": {},
   "outputs": [],
   "source": [
    "from agents import Agent, ModelSettings, function_tool, Runner, set_tracing_disabled\n",
    "from agents.extensions.models.litellm_model import LitellmModel\n",
    "import os\n",
    "import asyncio\n",
    "from dotenv import load_dotenv\n",
    "from litellm import completion\n",
    "\n",
    "# 加载环境变量\n",
    "load_dotenv()\n",
    "\n",
    "# 从环境变量中读取api_key\n",
    "api_key = os.getenv('mistral_key')\n",
    "base_url = 'https://api.mistral.ai/v1'\n",
    "chat_model = \"mistral/mistral-small-latest\"\n",
    "\n",
    "# api_key = os.getenv('DEEPSEEK_API_KEY')\n",
    "# base_url = \"https://api.deepseek.com/v1\"\n",
    "# chat_model = \"deepseek/deepseek-chat\""
   ]
  },
  {
   "cell_type": "code",
   "execution_count": null,
   "metadata": {},
   "outputs": [
    {
     "name": "stdout",
     "output_type": "stream",
     "text": [
      "工具被调用了！接收到的city参数是：上海\n",
      "上海城，天气晴朗，阳光明媚。\n"
     ]
    }
   ],
   "source": [
    "set_tracing_disabled(disabled=True)\n",
    "llm = LitellmModel(model=chat_model, api_key=api_key, base_url=base_url)\n",
    "\n",
    "@function_tool\n",
    "def get_weather(city: str) -> str:\n",
    "    print(f\"工具被调用了！接收到的city参数是：{city}\")\n",
    "    return f\"The weather in {city} is sunny\"\n",
    "\n",
    "agent = Agent(\n",
    "    name=\"天气助手\",\n",
    "    instructions=\"始终用汉赋的形式回答用户\",\n",
    "    model=llm,\n",
    "    tools=[get_weather],  # 定义 tool\n",
    "    model_settings=ModelSettings(temperature=0.2)\n",
    ")\n",
    "\n",
    "result = await Runner.run(agent, \"上海天气怎么样？\")  # \"必须使用工具来获取信息\" 如果不加这部分的 instructions，可能不会调用工具\n",
    "print(result.final_output)"
   ]
  },
  {
   "cell_type": "markdown",
   "metadata": {},
   "source": [
    "## 输出类型控制\n"
   ]
  },
  {
   "cell_type": "markdown",
   "metadata": {},
   "source": [
    "pydantic\n",
    "\n",
    "https://pydantic.com.cn/#pydantic_1\n",
    "\n",
    "pydantic 允许铜鼓哦定义数据模型（继承自BaseModel），对传入的数据进行验证，确保数据符合预期的类型和结构\n",
    "\n",
    "应用：\n",
    "1. 格式化输出。铜鼓哦声明式的定义数据名和数据类型"
   ]
  },
  {
   "cell_type": "code",
   "execution_count": null,
   "metadata": {},
   "outputs": [
    {
     "name": "stdout",
     "output_type": "stream",
     "text": []
    }
   ],
   "source": [
    "from pydantic import BaseModel\n",
    "\n",
    "set_tracing_disabled(disabled=True)\n",
    "llm = LitellmModel(model=chat_model, api_key=api_key, base_url=base_url)\n",
    "\n",
    "class Candidate(BaseModel):\n",
    "    name: str\n",
    "    gender: str\n",
    "    location: str\n",
    "\n",
    "agent = Agent(\n",
    "    name=\"简历助手\",\n",
    "    instructions=\"根据要求的格式抽取相应的信息\",\n",
    "    model=llm,\n",
    "    # 该参数会指示 agent 尝试生成符合 Candidate 这个模型定义的数据\n",
    "    # 但受限于llm的指令遵循能力，以及约束的复杂性，不一定能百分百保证 agent 能实现格式化输出\n",
    "    # 通过捕获异常，能定义没有格式化输出的位置，便于发现问题\n",
    "    output_type=Candidate,\n",
    ")\n",
    "\n",
    "result = await Runner.run(agent, \"我叫李婷，女，现居上海，想要应聘前台岗位。\")\n",
    "print(result.final_output)"
   ]
  },
  {
   "cell_type": "markdown",
   "metadata": {},
   "source": [
    "## 上下文"
   ]
  },
  {
   "cell_type": "markdown",
   "metadata": {},
   "source": [
    "上下文就是给大模型提供一些信息，但是和在 instruction 中的信息不同。instruction中的信息式固定的，始终需要的。而上下文可以让大模型**按需获取**\n",
    "\n",
    "\n",
    "感觉对「上下文」这个概念不太理解  #TODO"
   ]
  },
  {
   "cell_type": "code",
   "execution_count": null,
   "metadata": {},
   "outputs": [
    {
     "name": "stdout",
     "output_type": "stream",
     "text": []
    }
   ],
   "source": [
    "import asyncio\n",
    "from dataclasses import dataclass\n",
    "from agents.extensions.models.litellm_model import LitellmModel\n",
    "from agents import Agent, RunContextWrapper, Runner, function_tool, set_tracing_disabled\n",
    "import os\n",
    "import asyncio\n",
    "from dotenv import load_dotenv\n",
    "\n",
    "# 加载环境变量\n",
    "load_dotenv()\n",
    "\n",
    "# 从环境变量中读取api_key\n",
    "api_key = os.getenv('mistral_key')\n",
    "base_url = 'https://api.mistral.ai/v1'\n",
    "chat_model = \"mistral/mistral-small-latest\"\n",
    "\n",
    "set_tracing_disabled(disabled=True)\n",
    "llm = LitellmModel(model=chat_model, api_key=api_key, base_url=base_url)\n",
    "\n",
    "# UserInfo 为上下文对象\n",
    "@dataclass\n",
    "class UserInfo:  \n",
    "    name: str\n",
    "    uid: int\n",
    "\n",
    "@function_tool\n",
    "async def fetch_user_age(wrapper: RunContextWrapper[UserInfo]) -> str:  \n",
    "    # 可以看到，所有的工具都可以访问到这个wrapper.context\n",
    "    return f\"User {wrapper.context.name} is 47 years old\"\n",
    "\n",
    "async def main():\n",
    "    # 上下文的具体值\n",
    "    user_info = UserInfo(name=\"John\", uid=123)\n",
    "\n",
    "    # agent 期望接收和处理的上下文类型为 UserInfo\n",
    "    agent = Agent[UserInfo](  \n",
    "        name=\"Assistant\",\n",
    "        tools=[fetch_user_age],\n",
    "        model=llm,\n",
    "    )\n",
    "\n",
    "    result = await Runner.run(  \n",
    "        starting_agent=agent,\n",
    "        input=\"What is the age of the user?\",\n",
    "        context=user_info,\n",
    "    )\n",
    "\n",
    "    print(result.final_output)  \n",
    "    # The user John is 47 years old.\n",
    "\n",
    "# if __name__ == \"__main__\":\n",
    "    # asyncio.run(main())\n",
    "\n",
    "await main()\n",
    "\n",
    "# 为什么我运行代码输出结果为：The user is 47 years old."
   ]
  },
  {
   "cell_type": "markdown",
   "metadata": {},
   "source": [
    "## 动态指令"
   ]
  },
  {
   "cell_type": "markdown",
   "metadata": {},
   "source": [
    "创建 agent 时需要提供 `instruction`，可以直接提供固定字符串，或者通过函数提供动态指令。\n",
    "\n",
    "动态体现在哪里？\n",
    "\n",
    "一般写法如下：\n",
    "\n",
    "```python\n",
    "# 定义动态指令函数\n",
    "def dynamic_instructions(\n",
    "    context: RunContextWrapper[UserContext], agent: Agent[UserContext]\n",
    ") -> str:\n",
    "    return f\"The user's name is {context.context.name}. Help them with their questions.\"\n",
    "\n",
    "\n",
    "agent = Agent[UserContext](\n",
    "    name=\"Triage agent\",\n",
    "    instructions=dynamic_instructions,\n",
    ")\n",
    "```\n",
    "\n",
    "问题：\n",
    "1. 为什么传入 `dynamic_instructions` 中的是 `context.context.name`？这个是什么？"
   ]
  },
  {
   "cell_type": "code",
   "execution_count": null,
   "metadata": {},
   "outputs": [
    {
     "name": "stdout",
     "output_type": "stream",
     "text": []
    }
   ],
   "source": [
    "import asyncio\n",
    "from dataclasses import dataclass\n",
    "from agents.extensions.models.litellm_model import LitellmModel\n",
    "from agents import Agent, RunContextWrapper, Runner, function_tool, set_tracing_disabled\n",
    "import os\n",
    "import asyncio\n",
    "from dotenv import load_dotenv\n",
    "\n",
    "# 加载环境变量\n",
    "load_dotenv()\n",
    "# 从环境变量中读取api_key\n",
    "api_key = os.getenv('mistral_key')\n",
    "base_url = 'https://api.mistral.ai/v1'\n",
    "chat_model = \"mistral/mistral-small-latest\"\n",
    "set_tracing_disabled(disabled=True)\n",
    "llm = LitellmModel(model=chat_model, api_key=api_key, base_url=base_url)\n",
    "\n",
    "\n",
    "@dataclass\n",
    "class PatInfo:\n",
    "    # ip_type 是实例属性，不是静态属性\n",
    "    # @dataclass 会为每个类型注解自动生成实例属性\n",
    "    # 每个 PatInfo 实例都有自己独立的 ip_type 值\n",
    "    ip_type: str  \n",
    "    \n",
    "    # self 是必需的，因为这是一个实例方法\n",
    "    # self 允许方法访问实例的属性（如 self.ip_type）\n",
    "    def advice(self) -> str:\n",
    "        # 通过 self.ip_type 访问当前实例的 ip_type 属性\n",
    "        # 如果 ip_type 是静态属性，就不需要通过 self 访问\n",
    "        if self.ip_type==\"发明\":\n",
    "            return \"重点为用户讲解发明专利申请的实质审查要求\"\n",
    "        elif self.ip_type==\"实用新型\":\n",
    "            return \"重点为用户讲解实用新型专利申请的形式审查要求\"\n",
    "\n",
    "\n",
    "def dynamic_instructions(\n",
    "    context: RunContextWrapper[PatInfo], agent: Agent[PatInfo]\n",
    ") -> str:\n",
    "    return f\"用汉赋的句式{context.context.advice()}.\"\n",
    "\n",
    "\n",
    "async def main():\n",
    "    ip_info = PatInfo(ip_type=\"实用新型\")\n",
    "\n",
    "    agent = Agent[PatInfo](  \n",
    "        name=\"Assistant\",\n",
    "        instructions=dynamic_instructions,  # 使用动态指令\n",
    "        model=llm,\n",
    "    )\n",
    "\n",
    "    result = await Runner.run(  \n",
    "        starting_agent=agent,\n",
    "        input=\"我想申请专利\",\n",
    "        context=ip_info,\n",
    "    )\n",
    "\n",
    "    print(result.final_output)  \n",
    "\n",
    "\n",
    "# if __name__ == \"__main__\":\n",
    "#     asyncio.run(main())\n",
    "\n",
    "\n",
    "await main()"
   ]
  },
  {
   "cell_type": "code",
   "execution_count": 4,
   "metadata": {},
   "outputs": [
    {
     "name": "stdout",
     "output_type": "stream",
     "text": []
    }
   ],
   "source": [
    "@dataclass\n",
    "class PatInfo:\n",
    "    # ip_type 是实例属性，不是静态属性\n",
    "    # @dataclass 会为每个类型注解自动生成实例属性\n",
    "    # 每个 PatInfo 实例都有自己独立的 ip_type 值\n",
    "    ip_type: str\n",
    "    \n",
    "    # self 是必需的，因为这是一个实例方法\n",
    "    # self 允许方法访问实例的属性（如 self.ip_type）\n",
    "    def advice(self) -> str:\n",
    "        # 通过 self.ip_type 访问当前实例的 ip_type 属性\n",
    "        # 如果 ip_type 是静态属性，就不需要通过 self 访问\n",
    "        if self.ip_type==\"发明\":\n",
    "            return \"重点为用户讲解发明专利申请的实质审查要求\"\n",
    "        elif self.ip_type==\"实用新型\":\n",
    "            return \"重点为用户讲解实用新型专利申请的形式审查要求\"\n",
    "\n",
    "# 验证 ip_type 是实例属性的例子：\n",
    "pat1 = PatInfo(ip_type=\"发明\")\n",
    "pat2 = PatInfo(ip_type=\"实用新型\")\n",
    "print(pat1.ip_type)  # 输出：发明\n",
    "print(pat2.ip_type)  # 输出：实用新型\n",
    "# 每个实例都有自己独立的 ip_type 值，证明它是实例属性"
   ]
  },
  {
   "cell_type": "code",
   "execution_count": null,
   "metadata": {},
   "outputs": [],
   "source": []
  },
  {
   "cell_type": "markdown",
   "metadata": {},
   "source": [
    "## 克隆"
   ]
  },
  {
   "cell_type": "markdown",
   "metadata": {},
   "source": [
    "调用 agent 的 clone() 方法，快速基于 agnet 创建一个新的 agent"
   ]
  },
  {
   "cell_type": "code",
   "execution_count": null,
   "metadata": {},
   "outputs": [],
   "source": [
    "pirate_agent = Agent(\n",
    "    name=\"Pirate\",\n",
    "    instructions=\"Write like a pirate\",\n",
    "    model=\"o3-mini\",\n",
    ")\n",
    "\n",
    "robot_agent = pirate_agent.clone(\n",
    "    name=\"Robot\",\n",
    "    instructions=\"Write like a robot\",\n",
    ")"
   ]
  }
 ],
 "metadata": {
  "kernelspec": {
   "display_name": "openai-agent",
   "language": "python",
   "name": "python3"
  },
  "language_info": {
   "codemirror_mode": {
    "name": "ipython",
    "version": 3
   },
   "file_extension": ".py",
   "mimetype": "text/x-python",
   "name": "python",
   "nbconvert_exporter": "python",
   "pygments_lexer": "ipython3",
   "version": "3.10.18"
  }
 },
 "nbformat": 4,
 "nbformat_minor": 2
}

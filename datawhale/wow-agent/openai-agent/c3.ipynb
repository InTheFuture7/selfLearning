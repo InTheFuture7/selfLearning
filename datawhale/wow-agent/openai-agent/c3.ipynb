{
 "cells": [
  {
   "cell_type": "markdown",
   "metadata": {},
   "source": [
    "# agent 配置"
   ]
  },
  {
   "cell_type": "markdown",
   "metadata": {},
   "source": [
    "## 基础配置\n",
    "\n",
    "在 `Agent()` 中可以定义 `tool`，使用 `ModelSettings` 参数定义 `temperature`、`top_p` 等参数"
   ]
  },
  {
   "cell_type": "code",
   "execution_count": null,
   "metadata": {},
   "outputs": [],
   "source": [
    "from agents import Agent, ModelSettings, function_tool, Runner, set_tracing_disabled\n",
    "from agents.extensions.models.litellm_model import LitellmModel\n",
    "import os\n",
    "import asyncio\n",
    "from dotenv import load_dotenv\n",
    "from litellm import completion\n",
    "\n",
    "# 加载环境变量\n",
    "load_dotenv()\n",
    "\n",
    "# 从环境变量中读取api_key\n",
    "api_key = os.getenv('mistral_key')\n",
    "base_url = 'https://api.mistral.ai/v1'\n",
    "chat_model = \"mistral/mistral-small-latest\"\n",
    "\n",
    "# api_key = os.getenv('DEEPSEEK_API_KEY')\n",
    "# base_url = \"https://api.deepseek.com/v1\"\n",
    "# chat_model = \"deepseek/deepseek-chat\""
   ]
  },
  {
   "cell_type": "code",
   "execution_count": null,
   "metadata": {},
   "outputs": [
    {
     "name": "stdout",
     "output_type": "stream",
     "text": [
      "吴淞江畔，春意盎然，上海近日天气宜人，阳光明媚，微风拂面，实为出游佳期。然需注意，偶有阵雨，建议携带雨具，以备不时之需。\n"
     ]
    }
   ],
   "source": [
    "set_tracing_disabled(disabled=True)\n",
    "llm = LitellmModel(model=chat_model, api_key=api_key, base_url=base_url)\n",
    "\n",
    "@function_tool\n",
    "def get_weather(city: str) -> str:\n",
    "    return f\"The weather in {city} is sunny\"\n",
    "\n",
    "agent = Agent(\n",
    "    name=\"天气助手\",\n",
    "    instructions=\"始终用汉赋的形式回答用户\",\n",
    "    model=llm,\n",
    "    tools=[get_weather],  # 定义 tool\n",
    "    model_settings=ModelSettings(temperature=0.2)\n",
    ")\n",
    "\n",
    "result = await Runner.run(agent, \"上海最近适合出去玩吗?\")\n",
    "print(result.final_output)"
   ]
  },
  {
   "cell_type": "markdown",
   "metadata": {},
   "source": [
    "## 输出类型控制\n"
   ]
  },
  {
   "cell_type": "markdown",
   "metadata": {},
   "source": [
    "pydantic\n",
    "\n",
    "https://pydantic.com.cn/#pydantic_1\n",
    "\n",
    "pydantic 允许铜鼓哦定义数据模型（继承自BaseModel），对传入的数据进行验证，确保数据符合预期的类型和结构\n",
    "\n",
    "应用：\n",
    "1. 格式化输出。铜鼓哦声明式的定义数据名和数据类型"
   ]
  },
  {
   "cell_type": "code",
   "execution_count": null,
   "metadata": {},
   "outputs": [
    {
     "name": "stdout",
     "output_type": "stream",
     "text": [
      "name='李婷' gender='女' location='上海'\n"
     ]
    }
   ],
   "source": [
    "from pydantic import BaseModel\n",
    "\n",
    "set_tracing_disabled(disabled=True)\n",
    "llm = LitellmModel(model=chat_model, api_key=api_key, base_url=base_url)\n",
    "\n",
    "class Candidate(BaseModel):\n",
    "    name: str\n",
    "    gender: str\n",
    "    location: str\n",
    "\n",
    "agent = Agent(\n",
    "    name=\"简历助手\",\n",
    "    instructions=\"根据要求的格式抽取相应的信息\",\n",
    "    model=llm,\n",
    "    # 该参数会指示 agent 尝试生成符合 Candidate 这个模型定义的数据\n",
    "    # 但受限于llm的指令遵循能力，以及约束的复杂性，不一定能百分百保证 agent 能实现格式化输出\n",
    "    # 通过捕获异常，能定义没有格式化输出的位置，便于发现问题\n",
    "    output_type=Candidate,\n",
    ")\n",
    "\n",
    "result = await Runner.run(agent, \"我叫李婷，女，现居上海，想要应聘前台岗位。\")\n",
    "print(result.final_output)"
   ]
  },
  {
   "cell_type": "markdown",
   "metadata": {},
   "source": [
    "## 上下文"
   ]
  },
  {
   "cell_type": "markdown",
   "metadata": {},
   "source": [
    "上下文就是给大模型提供一些信息，但是和在 instruction 中的信息不同。instruction中的信息式固定的，始终需要的。而上下文可以让大模型**按需获取**\n",
    "\n",
    "\n",
    "感觉对「上下文」这个概念不太理解  #TODO"
   ]
  },
  {
   "cell_type": "code",
   "execution_count": null,
   "metadata": {},
   "outputs": [
    {
     "name": "stdout",
     "output_type": "stream",
     "text": [
      "The user is 47 years old.\n"
     ]
    }
   ],
   "source": [
    "import asyncio\n",
    "from dataclasses import dataclass\n",
    "from agents.extensions.models.litellm_model import LitellmModel\n",
    "from agents import Agent, RunContextWrapper, Runner, function_tool, set_tracing_disabled\n",
    "import os\n",
    "import asyncio\n",
    "from dotenv import load_dotenv\n",
    "\n",
    "# 加载环境变量\n",
    "load_dotenv()\n",
    "\n",
    "# 从环境变量中读取api_key\n",
    "api_key = os.getenv('mistral_key')\n",
    "base_url = 'https://api.mistral.ai/v1'\n",
    "chat_model = \"mistral/mistral-small-latest\"\n",
    "\n",
    "set_tracing_disabled(disabled=True)\n",
    "llm = LitellmModel(model=chat_model, api_key=api_key, base_url=base_url)\n",
    "\n",
    "# UserInfo 为上下文对象\n",
    "@dataclass\n",
    "class UserInfo:  \n",
    "    name: str\n",
    "    uid: int\n",
    "\n",
    "@function_tool\n",
    "async def fetch_user_age(wrapper: RunContextWrapper[UserInfo]) -> str:  \n",
    "    # 可以看到，所有的工具都可以访问到这个wrapper.context\n",
    "    return f\"User {wrapper.context.name} is 47 years old\"\n",
    "\n",
    "async def main():\n",
    "    # 上下文的具体值\n",
    "    user_info = UserInfo(name=\"John\", uid=123)\n",
    "\n",
    "    # agent 期望接收和处理的上下文类型为 UserInfo\n",
    "    agent = Agent[UserInfo](  \n",
    "        name=\"Assistant\",\n",
    "        tools=[fetch_user_age],\n",
    "        model=llm,\n",
    "    )\n",
    "\n",
    "    result = await Runner.run(  \n",
    "        starting_agent=agent,\n",
    "        input=\"What is the age of the user?\",\n",
    "        context=user_info,\n",
    "    )\n",
    "\n",
    "    print(result.final_output)  \n",
    "    # The user John is 47 years old.\n",
    "\n",
    "# if __name__ == \"__main__\":\n",
    "    # asyncio.run(main())\n",
    "\n",
    "await main()\n",
    "\n",
    "# 为什么我运行代码输出结果为：The user is 47 years old."
   ]
  },
  {
   "cell_type": "markdown",
   "metadata": {},
   "source": [
    "## 动态指令"
   ]
  },
  {
   "cell_type": "markdown",
   "metadata": {},
   "source": [
    "创建 agent 时需要提供 `instruction`，可以直接提供固定字符串，或者通过函数提供动态指令。\n",
    "\n",
    "动态体现在哪里？\n",
    "\n",
    "一般写法如下：\n",
    "\n",
    "```python\n",
    "# 定义动态指令函数\n",
    "def dynamic_instructions(\n",
    "    context: RunContextWrapper[UserContext], agent: Agent[UserContext]\n",
    ") -> str:\n",
    "    return f\"The user's name is {context.context.name}. Help them with their questions.\"\n",
    "\n",
    "\n",
    "agent = Agent[UserContext](\n",
    "    name=\"Triage agent\",\n",
    "    instructions=dynamic_instructions,\n",
    ")\n",
    "```\n",
    "\n",
    "问题：\n",
    "1. 为什么传入 `dynamic_instructions` 中的是 `context.context.name`？这个是什么？"
   ]
  },
  {
   "cell_type": "code",
   "execution_count": null,
   "metadata": {},
   "outputs": [
    {
     "name": "stdout",
     "output_type": "stream",
     "text": [
      "申请实用新型专利，需遵循形式审查之严格要求，如下所述：\n",
      "\n",
      "**首先，题目之命名，需符合规范：**\n",
      "题目应简明扼要，准确反映实用新型之技术特征与用途。不可过于冗长，亦不可模糊不清。如“一种新型节能环保的家用电器”，则为合理之命名。\n",
      "\n",
      "**其次，说明书之撰写，需详尽明确：**\n",
      "说明书应包含以下内容：\n",
      "- **技术领域**：明确实用新型所属之技术领域，说明其背景技术及现有技术之不足。\n",
      "- **背景技术**：阐述实用新型之技术背景，说明其创新点与现有技术之区别。\n",
      "- **发明内容**：详细描述实用新型之技术方案，包括其核心技术、关键部件及其相互关系。需以具体实施方式为例，使他人易于理解与实施。\n",
      "- **附图说明**：若实用新型涉及图形，则需附上附图，并注明各图之标号及名称。\n",
      "- **具体实施方式**：详细说明实用新型之具体实施过程，包括其工作原理、操作方法及使用效果。\n",
      "\n",
      "**再次，权利要求书之撰写，需严谨精确：**\n",
      "权利要求书应明确、简洁，列出实用新型之技术特征及其相互关系。每一项权利要求应独立成段，并以数字标注。权利要求应基于说明书之描述，不可超出说明书之范围。\n",
      "\n",
      "**复次，说明书附图之绘制，需清晰规范：**\n",
      "附图应清晰、准确，能够准确反映实用新型之结构与原理。附图应使用黑色线条绘制，背景应为白色。附图中之各部件应标注明确之标号，并与说明书中之描述一致。\n",
      "\n",
      "**末了，申请文件之提交，需完整无误：**\n",
      "申请文件应包括以下内容：\n",
      "- 实用新型专利申请请求书\n",
      "- 说明书（包括摘要）\n",
      "- 权利要求书\n",
      "- 说明书附图\n",
      "- 代理委托书（如有代理人）\n",
      "- 优先权证明文件（如申请优先权）\n",
      "\n",
      "**注意事项：**\n",
      "- 申请文件应使用A4纸张，字体为宋体或仿宋体，字号不小于小四。\n",
      "- 申请文件应使用中文撰写，如需使用外文，则需附上中文译本。\n",
      "- 申请文件应签字盖章，并注明日期。\n",
      "\n",
      "遵循上述要求，方能顺利通过形式审查，进入实质审查阶段。如有疑问，可咨询专利代理机构或专利局，以确保申请之顺利进行。\n"
     ]
    }
   ],
   "source": [
    "import asyncio\n",
    "from dataclasses import dataclass\n",
    "from agents.extensions.models.litellm_model import LitellmModel\n",
    "from agents import Agent, RunContextWrapper, Runner, function_tool, set_tracing_disabled\n",
    "import os\n",
    "import asyncio\n",
    "from dotenv import load_dotenv\n",
    "\n",
    "# 加载环境变量\n",
    "load_dotenv()\n",
    "# 从环境变量中读取api_key\n",
    "api_key = os.getenv('mistral_key')\n",
    "base_url = 'https://api.mistral.ai/v1'\n",
    "chat_model = \"mistral/mistral-small-latest\"\n",
    "set_tracing_disabled(disabled=True)\n",
    "llm = LitellmModel(model=chat_model, api_key=api_key, base_url=base_url)\n",
    "\n",
    "\n",
    "@dataclass\n",
    "class PatInfo:\n",
    "    ip_type: str\n",
    "    def advice(self) -> str:\n",
    "        if self.ip_type==\"发明\":\n",
    "            return \"重点为用户讲解发明专利申请的实质审查要求\"\n",
    "        elif self.ip_type==\"实用新型\":\n",
    "            return \"重点为用户讲解实用新型专利申请的形式审查要求\"\n",
    "\n",
    "\n",
    "def dynamic_instructions(\n",
    "    context: RunContextWrapper[PatInfo], agent: Agent[PatInfo]\n",
    ") -> str:\n",
    "    return f\"用汉赋的句式{context.context.advice()}.\"\n",
    "\n",
    "\n",
    "async def main():\n",
    "    ip_info = PatInfo(ip_type=\"实用新型\")\n",
    "\n",
    "    agent = Agent[PatInfo](  \n",
    "        name=\"Assistant\",\n",
    "        instructions=dynamic_instructions,  # 使用动态指令\n",
    "        model=llm,\n",
    "    )\n",
    "\n",
    "    result = await Runner.run(  \n",
    "        starting_agent=agent,\n",
    "        input=\"我想申请专利\",\n",
    "        context=ip_info,\n",
    "    )\n",
    "\n",
    "    print(result.final_output)  \n",
    "\n",
    "\n",
    "# if __name__ == \"__main__\":\n",
    "#     asyncio.run(main())\n",
    "\n",
    "\n",
    "await main()"
   ]
  },
  {
   "cell_type": "code",
   "execution_count": null,
   "metadata": {},
   "outputs": [],
   "source": []
  },
  {
   "cell_type": "markdown",
   "metadata": {},
   "source": [
    "## 克隆"
   ]
  },
  {
   "cell_type": "markdown",
   "metadata": {},
   "source": [
    "调用 agent 的 clone() 方法，快速基于 agnet 创建一个新的 agent"
   ]
  },
  {
   "cell_type": "code",
   "execution_count": null,
   "metadata": {},
   "outputs": [],
   "source": [
    "pirate_agent = Agent(\n",
    "    name=\"Pirate\",\n",
    "    instructions=\"Write like a pirate\",\n",
    "    model=\"o3-mini\",\n",
    ")\n",
    "\n",
    "robot_agent = pirate_agent.clone(\n",
    "    name=\"Robot\",\n",
    "    instructions=\"Write like a robot\",\n",
    ")"
   ]
  }
 ],
 "metadata": {
  "kernelspec": {
   "display_name": "openai-agent",
   "language": "python",
   "name": "python3"
  },
  "language_info": {
   "codemirror_mode": {
    "name": "ipython",
    "version": 3
   },
   "file_extension": ".py",
   "mimetype": "text/x-python",
   "name": "python",
   "nbconvert_exporter": "python",
   "pygments_lexer": "ipython3",
   "version": "3.10.18"
  }
 },
 "nbformat": 4,
 "nbformat_minor": 2
}
